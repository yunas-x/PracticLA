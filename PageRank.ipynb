{
  "nbformat": 4,
  "nbformat_minor": 0,
  "metadata": {
    "colab": {
      "provenance": []
    },
    "kernelspec": {
      "name": "python3",
      "display_name": "Python 3"
    },
    "language_info": {
      "name": "python"
    }
  },
  "cells": [
    {
      "cell_type": "code",
      "execution_count": null,
      "metadata": {
        "id": "Ut-PKuGHWpdI"
      },
      "outputs": [],
      "source": [
        "import numpy as np"
      ]
    },
    {
      "cell_type": "code",
      "source": [
        "P = np.array([[0, 0.5, 1/3, 1, 0],\n",
        "              [1, 0, 1/3, 0, 1/3],\n",
        "              [0, 0.5, 0, 0, 1/3],\n",
        "              [0, 0, 0, 0, 1/3],\n",
        "              [0, 0, 1/3, 0, 0]])"
      ],
      "metadata": {
        "id": "bVqmoD3sW6DP"
      },
      "execution_count": null,
      "outputs": []
    },
    {
      "cell_type": "code",
      "source": [
        "x = np.array([1, 1, 1, 1, 1])"
      ],
      "metadata": {
        "id": "zE1kTw53YP3m"
      },
      "execution_count": null,
      "outputs": []
    },
    {
      "cell_type": "code",
      "source": [
        "for i in range(20):\n",
        "  x = P@x\n",
        "  print(f\"{i} {x}\")"
      ],
      "metadata": {
        "colab": {
          "base_uri": "https://localhost:8080/"
        },
        "id": "esbKxv2fYW6x",
        "outputId": "ba5b5eeb-a573-442c-9f22-71fcc94d2b9b"
      },
      "execution_count": null,
      "outputs": [
        {
          "output_type": "stream",
          "name": "stdout",
          "text": [
            "0 [1.46344308 1.95105247 1.09775469 0.12198852 0.36576125]\n",
            "1 [1.46343298 1.95128172 1.09744665 0.12192042 0.36591823]\n",
            "2 [1.46337683 1.95122128 1.0976136  0.12197274 0.36581555]\n",
            "3 [1.46345458 1.95118655 1.09754915 0.12193852 0.3658712 ]\n",
            "4 [1.46338151 1.95126137 1.09755034 0.12195707 0.36584972]\n",
            "5 [1.46343786 1.95118153 1.09758059 0.12194991 0.36585011]\n",
            "6 [1.46340087 1.9512481  1.0975408  0.12195004 0.3658602 ]\n",
            "7 [1.46342102 1.9512012  1.09757745 0.1219534  0.36584693]\n",
            "8 [1.46341315 1.95122915 1.09754958 0.12194898 0.36585915]\n",
            "9 [1.46341341 1.95121606 1.09756762 0.12195305 0.36584986]\n",
            "10 [1.46341695 1.95121924 1.09755798 0.12194995 0.36585587]\n",
            "11 [1.46341223 1.95122157 1.09756158 0.12195196 0.36585266]\n",
            "12 [1.4634166  1.95121698 1.09756167 0.12195089 0.36585386]\n",
            "13 [1.46341327 1.95122178 1.09755978 0.12195129 0.36585389]\n",
            "14 [1.46341544 1.95121782 1.09756219 0.1219513  0.36585326]\n",
            "15 [1.46341427 1.95122058 1.09756    0.12195109 0.36585406]\n",
            "16 [1.46341471 1.95121896 1.09756165 0.12195135 0.36585333]\n",
            "17 [1.46341471 1.9512197  1.09756059 0.12195111 0.36585388]\n",
            "18 [1.46341449 1.95121954 1.09756115 0.12195129 0.36585353]\n",
            "19 [1.46341478 1.95121938 1.09756095 0.12195118 0.36585372]\n"
          ]
        }
      ]
    },
    {
      "cell_type": "code",
      "source": [
        "x_theory = np.array([4, 5.33, 3, 0.33, 1])\n",
        "x_theory = x_theory / np.linalg.norm(x_theory)"
      ],
      "metadata": {
        "id": "EK54Q3JTY7J8"
      },
      "execution_count": null,
      "outputs": []
    },
    {
      "cell_type": "code",
      "source": [
        "x_theory"
      ],
      "metadata": {
        "colab": {
          "base_uri": "https://localhost:8080/"
        },
        "id": "cw3Ye1u8aatw",
        "outputId": "c4fbb2d0-1998-44e2-8f0d-bfaaf89c9f41"
      },
      "execution_count": null,
      "outputs": [
        {
          "output_type": "execute_result",
          "data": {
            "text/plain": [
              "array([0.54173991, 0.72186843, 0.40630493, 0.04469354, 0.13543498])"
            ]
          },
          "metadata": {},
          "execution_count": 29
        }
      ]
    },
    {
      "cell_type": "code",
      "source": [
        "x = x / np.linalg.norm(x)"
      ],
      "metadata": {
        "id": "SnnlclZBaddU"
      },
      "execution_count": null,
      "outputs": []
    },
    {
      "cell_type": "code",
      "source": [
        "x"
      ],
      "metadata": {
        "colab": {
          "base_uri": "https://localhost:8080/"
        },
        "id": "Z5WgSHb7aiuA",
        "outputId": "3a20789e-dea4-4593-a619-8b22c1debb86"
      },
      "execution_count": null,
      "outputs": [
        {
          "output_type": "execute_result",
          "data": {
            "text/plain": [
              "array([0.54155248, 0.72206985, 0.40616431, 0.04512935, 0.13538813])"
            ]
          },
          "metadata": {},
          "execution_count": 31
        }
      ]
    },
    {
      "cell_type": "code",
      "source": [
        "np.linalg.cond(P)"
      ],
      "metadata": {
        "colab": {
          "base_uri": "https://localhost:8080/"
        },
        "id": "AWOYUai2awnk",
        "outputId": "744ccb67-c138-4cc2-c4d0-41ac6d0cfaca"
      },
      "execution_count": null,
      "outputs": [
        {
          "output_type": "execute_result",
          "data": {
            "text/plain": [
              "5.101957424658018"
            ]
          },
          "metadata": {},
          "execution_count": 33
        }
      ]
    }
  ]
}