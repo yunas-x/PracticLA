{
  "nbformat": 4,
  "nbformat_minor": 0,
  "metadata": {
    "colab": {
      "provenance": []
    },
    "kernelspec": {
      "name": "python3",
      "display_name": "Python 3"
    },
    "language_info": {
      "name": "python"
    }
  },
  "cells": [
    {
      "cell_type": "code",
      "execution_count": null,
      "metadata": {
        "id": "KiDNoyl0WwnV"
      },
      "outputs": [],
      "source": [
        "import numpy as np"
      ]
    },
    {
      "cell_type": "code",
      "source": [
        "import matplotlib.pyplot as plt"
      ],
      "metadata": {
        "id": "trjkfAY9g2_P"
      },
      "execution_count": null,
      "outputs": []
    },
    {
      "cell_type": "markdown",
      "source": [
        "Task **2**"
      ],
      "metadata": {
        "id": "yLAq0tasfKj-"
      }
    },
    {
      "cell_type": "code",
      "source": [
        "T2_A = np.array([[-2, 7, 0],\n",
        "                 [4, -11, 12],\n",
        "                 [-1, 4, 2],\n",
        "                 [3, -8, 10]])"
      ],
      "metadata": {
        "id": "v7u5zKfxfO1W"
      },
      "execution_count": null,
      "outputs": []
    },
    {
      "cell_type": "code",
      "source": [
        "np.linalg.det(T2_A @ T2_A.T)"
      ],
      "metadata": {
        "colab": {
          "base_uri": "https://localhost:8080/"
        },
        "id": "P2NNDXbjrg8Z",
        "outputId": "03b7a407-6eb0-4aa8-a7ad-266d01387fc0"
      },
      "execution_count": null,
      "outputs": [
        {
          "output_type": "execute_result",
          "data": {
            "text/plain": [
              "-1.0888173758222526e-24"
            ]
          },
          "metadata": {},
          "execution_count": 31
        }
      ]
    },
    {
      "cell_type": "code",
      "source": [
        "T2_A.T @ T2_A"
      ],
      "metadata": {
        "colab": {
          "base_uri": "https://localhost:8080/"
        },
        "id": "CKr4fWfeimYc",
        "outputId": "fc171e27-4ebf-4183-9f50-8e184e0e88d7"
      },
      "execution_count": null,
      "outputs": [
        {
          "output_type": "execute_result",
          "data": {
            "text/plain": [
              "array([[  30,  -86,   76],\n",
              "       [ -86,  250, -204],\n",
              "       [  76, -204,  248]])"
            ]
          },
          "metadata": {},
          "execution_count": 25
        }
      ]
    },
    {
      "cell_type": "code",
      "source": [
        "np.linalg.det(T2_A.T @ T2_A) # Равен нулю, то есть обратной к нормальной не существует"
      ],
      "metadata": {
        "colab": {
          "base_uri": "https://localhost:8080/"
        },
        "id": "8pHxp8LUpWxP",
        "outputId": "48c5e2ef-fae9-41a4-88ef-4ae73800ada0"
      },
      "execution_count": null,
      "outputs": [
        {
          "output_type": "execute_result",
          "data": {
            "text/plain": [
              "6.207301339600229e-11"
            ]
          },
          "metadata": {},
          "execution_count": 29
        }
      ]
    },
    {
      "cell_type": "code",
      "source": [
        "np.linalg.pinv(T2_A) # Проверка"
      ],
      "metadata": {
        "colab": {
          "base_uri": "https://localhost:8080/"
        },
        "id": "qzsW-5x2gKAh",
        "outputId": "47875b88-c2e0-4eee-84a7-80fe33a61067"
      },
      "execution_count": null,
      "outputs": [
        {
          "output_type": "execute_result",
          "data": {
            "text/plain": [
              "array([[-0.0177862 ,  0.00604912, -0.01381365,  0.00207656],\n",
              "       [ 0.08008306, -0.01200795,  0.06473456,  0.00334056],\n",
              "       [ 0.07132539,  0.03665583,  0.06554713,  0.04243409]])"
            ]
          },
          "metadata": {},
          "execution_count": 24
        }
      ]
    },
    {
      "cell_type": "markdown",
      "source": [
        "Task **3**"
      ],
      "metadata": {
        "id": "Ne-nmNFo6_or"
      }
    },
    {
      "cell_type": "code",
      "source": [
        "T3_A = np.array([[8, 8, -6, -59],\n",
        "                 [26, -16, 54, 70],\n",
        "                 [-68, -20, -33, -58]])\n",
        "\n",
        "np.linalg.pinv(T3_A) # Проверка"
      ],
      "metadata": {
        "colab": {
          "base_uri": "https://localhost:8080/"
        },
        "id": "8p6uKzp869K1",
        "outputId": "0834846a-984a-4d92-e0a5-cc9cebc86eff"
      },
      "execution_count": null,
      "outputs": [
        {
          "output_type": "execute_result",
          "data": {
            "text/plain": [
              "array([[ 0.0085048 , -0.00260631, -0.01179698],\n",
              "       [-0.00548697, -0.01371742, -0.01097394],\n",
              "       [ 0.018107  ,  0.02139918,  0.00740741],\n",
              "       [-0.01838134, -0.00438957, -0.00384088]])"
            ]
          },
          "metadata": {},
          "execution_count": 32
        }
      ]
    },
    {
      "cell_type": "markdown",
      "source": [
        "Task 4"
      ],
      "metadata": {
        "id": "ZaCx_IDXCWQC"
      }
    },
    {
      "cell_type": "code",
      "source": [
        "T4_A = np.array([[-4, -14, -5, 9],\n",
        "                 [2, 4, 12, 10],\n",
        "                 [-3, -11, 0, 7],\n",
        "                 [1, 1, 13, 6]])\n",
        "\n",
        "np.linalg.pinv(T4_A) # Псевдообратная"
      ],
      "metadata": {
        "colab": {
          "base_uri": "https://localhost:8080/"
        },
        "id": "aISG1rlaCYNo",
        "outputId": "2660e748-45aa-4486-ad98-b71bf2292224"
      },
      "execution_count": null,
      "outputs": [
        {
          "output_type": "execute_result",
          "data": {
            "text/plain": [
              "array([[ 0.00253151,  0.02848037, -0.0196292 , -0.02270343],\n",
              "       [ 0.00631056,  0.08778259, -0.06691739, -0.07937702],\n",
              "       [-0.04705143, -0.06124001,  0.04900743,  0.11525886],\n",
              "       [ 0.06491768,  0.12794918, -0.04365666, -0.09323535]])"
            ]
          },
          "metadata": {},
          "execution_count": 36
        }
      ]
    },
    {
      "cell_type": "code",
      "source": [
        "T4_y = np.array([[9,9,9,6]])"
      ],
      "metadata": {
        "id": "65t6VXmrCwEE"
      },
      "execution_count": null,
      "outputs": []
    },
    {
      "cell_type": "code",
      "source": [
        "np.linalg.pinv(T4_A) @ T4_y.T"
      ],
      "metadata": {
        "colab": {
          "base_uri": "https://localhost:8080/"
        },
        "id": "06xOR7YcDMRt",
        "outputId": "09be3095-da2a-4423-af83-09da1cadb842"
      },
      "execution_count": null,
      "outputs": [
        {
          "output_type": "execute_result",
          "data": {
            "text/plain": [
              "array([[-0.0337765 ],\n",
              "       [-0.23168027],\n",
              "       [ 0.15799701],\n",
              "       [ 0.78347964]])"
            ]
          },
          "metadata": {},
          "execution_count": 39
        }
      ]
    },
    {
      "cell_type": "code",
      "source": [
        "np.linalg.lstsq(T4_A, T4_y.T) # Проверка"
      ],
      "metadata": {
        "colab": {
          "base_uri": "https://localhost:8080/"
        },
        "id": "q6hNxsMVDWDk",
        "outputId": "451fd74f-055d-465d-d12a-16bed4fa6c88"
      },
      "execution_count": null,
      "outputs": [
        {
          "output_type": "stream",
          "name": "stderr",
          "text": [
            "<ipython-input-40-36e92d02ccd1>:1: FutureWarning: `rcond` parameter will change to the default of machine precision times ``max(M, N)`` where M and N are the input matrix dimensions.\n",
            "To use the future default and silence this warning we advise to pass `rcond=None`, to keep using the old, explicitly pass `rcond=-1`.\n",
            "  np.linalg.lstsq(T4_A, T4_y.T)\n"
          ]
        },
        {
          "output_type": "execute_result",
          "data": {
            "text/plain": [
              "(array([[-0.0337765 ],\n",
              "        [-0.23168027],\n",
              "        [ 0.15799701],\n",
              "        [ 0.78347964]]),\n",
              " array([], dtype=float64),\n",
              " 3,\n",
              " array([22.27291276, 21.38687223,  3.81038753,  0.        ]))"
            ]
          },
          "metadata": {},
          "execution_count": 40
        }
      ]
    },
    {
      "cell_type": "markdown",
      "source": [
        "Task 5"
      ],
      "metadata": {
        "id": "AlfmxkO6g6O3"
      }
    },
    {
      "cell_type": "code",
      "source": [
        "X = [-3, 0, 1, 2]\n",
        "Y = [-5, 15, -12, -3]"
      ],
      "metadata": {
        "id": "ZBUrPinSg5XD"
      },
      "execution_count": null,
      "outputs": []
    },
    {
      "cell_type": "code",
      "source": [
        "plt.plot(X, Y, 'o')"
      ],
      "metadata": {
        "colab": {
          "base_uri": "https://localhost:8080/",
          "height": 447
        },
        "id": "WzFFJWSrhani",
        "outputId": "cd16a497-a714-4889-90c1-b76b1e847fcd"
      },
      "execution_count": null,
      "outputs": [
        {
          "output_type": "execute_result",
          "data": {
            "text/plain": [
              "[<matplotlib.lines.Line2D at 0x787a79633340>]"
            ]
          },
          "metadata": {},
          "execution_count": 5
        },
        {
          "output_type": "display_data",
          "data": {
            "text/plain": [
              "<Figure size 640x480 with 1 Axes>"
            ],
            "image/png": "[encoded data removed]"
          },
          "metadata": {}
        }
      ]
    },
    {
      "cell_type": "code",
      "source": [
        "plt.plot(X, Y, 'o')\n",
        "x = np.linspace(-3.5, 2.5)\n",
        "plt.plot(x, 5.28*x**3 + 2.15*x**2 - 34.43*x + 15)"
      ],
      "metadata": {
        "colab": {
          "base_uri": "https://localhost:8080/",
          "height": 447
        },
        "id": "w71UG5H7jANn",
        "outputId": "e95a384d-096a-4506-e36b-c515763b21c4"
      },
      "execution_count": null,
      "outputs": [
        {
          "output_type": "execute_result",
          "data": {
            "text/plain": [
              "[<matplotlib.lines.Line2D at 0x781ec4473070>]"
            ]
          },
          "metadata": {},
          "execution_count": 4
        },
        {
          "output_type": "display_data",
          "data": {
            "text/plain": [
              "<Figure size 640x480 with 1 Axes>"
            ],
            "image/png": "[encoded data removed]"
          },
          "metadata": {}
        }
      ]
    },
    {
      "cell_type": "markdown",
      "source": [
        "Task 6"
      ],
      "metadata": {
        "id": "VOhoTo5B3e-g"
      }
    },
    {
      "cell_type": "code",
      "source": [
        "M = np.array([\n",
        "    [-1,  3, -3,  1],\n",
        "    [ 3, -6,  3,  0],\n",
        "    [-3,  3,  0,  0],\n",
        "    [ 1,  0,  0,  0]\n",
        "])\n",
        "\n",
        "P1 = np.array([\n",
        "    [3, 2, 9, 8],\n",
        "    [5, 9, 1, 1.5]\n",
        "])\n",
        "\n",
        "P2 = np.array([\n",
        "    [3, 4, 7, 8],\n",
        "    [5, 1, 2, 1.5]\n",
        "])"
      ],
      "metadata": {
        "id": "9CYDZie13hc5"
      },
      "execution_count": null,
      "outputs": []
    },
    {
      "cell_type": "code",
      "source": [
        "def t_matrix(t):\n",
        "  return np.array([t**3, t**2, t, t**0])"
      ],
      "metadata": {
        "id": "TDikQqPQ9BkY"
      },
      "execution_count": null,
      "outputs": []
    },
    {
      "cell_type": "code",
      "source": [
        "t = np.linspace(0, 1)"
      ],
      "metadata": {
        "id": "XqrHITaK9FRX"
      },
      "execution_count": null,
      "outputs": []
    },
    {
      "cell_type": "code",
      "source": [
        "t_matr = t_matrix(t)"
      ],
      "metadata": {
        "id": "eXQUJkg09HSz"
      },
      "execution_count": null,
      "outputs": []
    },
    {
      "cell_type": "code",
      "source": [
        "t_matr"
      ],
      "metadata": {
        "colab": {
          "base_uri": "https://localhost:8080/"
        },
        "id": "_5MXBNlr9In4",
        "outputId": "1ad9cfbc-fea7-4b18-ec69-f8ec3b94ad73"
      },
      "execution_count": null,
      "outputs": [
        {
          "output_type": "execute_result",
          "data": {
            "text/plain": [
              "array([[0.00000000e+00, 8.49985975e-06, 6.79988780e-05, 2.29496213e-04,\n",
              "        5.43991024e-04, 1.06248247e-03, 1.83596971e-03, 2.91545190e-03,\n",
              "        4.35192819e-03, 6.19639776e-03, 8.49985975e-03, 1.13133133e-02,\n",
              "        1.46877577e-02, 1.86741919e-02, 2.33236152e-02, 2.86870267e-02,\n",
              "        3.48154255e-02, 4.17598110e-02, 4.95711821e-02, 5.83005380e-02,\n",
              "        6.79988780e-02, 7.87172012e-02, 9.05065066e-02, 1.03417794e-01,\n",
              "        1.17502061e-01, 1.32810309e-01, 1.49393535e-01, 1.67302740e-01,\n",
              "        1.86588921e-01, 2.07303079e-01, 2.29496213e-01, 2.53219322e-01,\n",
              "        2.78523404e-01, 3.05459460e-01, 3.34078488e-01, 3.64431487e-01,\n",
              "        3.96569457e-01, 4.30543396e-01, 4.66404304e-01, 5.04203181e-01,\n",
              "        5.43991024e-01, 5.85818834e-01, 6.29737609e-01, 6.75798349e-01,\n",
              "        7.24052053e-01, 7.74549720e-01, 8.27342349e-01, 8.82480939e-01,\n",
              "        9.40016490e-01, 1.00000000e+00],\n",
              "       [0.00000000e+00, 4.16493128e-04, 1.66597251e-03, 3.74843815e-03,\n",
              "        6.66389005e-03, 1.04123282e-02, 1.49937526e-02, 2.04081633e-02,\n",
              "        2.66555602e-02, 3.37359434e-02, 4.16493128e-02, 5.03956685e-02,\n",
              "        5.99750104e-02, 7.03873386e-02, 8.16326531e-02, 9.37109538e-02,\n",
              "        1.06622241e-01, 1.20366514e-01, 1.34943773e-01, 1.50354019e-01,\n",
              "        1.66597251e-01, 1.83673469e-01, 2.01582674e-01, 2.20324865e-01,\n",
              "        2.39900042e-01, 2.60308205e-01, 2.81549354e-01, 3.03623490e-01,\n",
              "        3.26530612e-01, 3.50270721e-01, 3.74843815e-01, 4.00249896e-01,\n",
              "        4.26488963e-01, 4.53561016e-01, 4.81466056e-01, 5.10204082e-01,\n",
              "        5.39775094e-01, 5.70179092e-01, 6.01416077e-01, 6.33486047e-01,\n",
              "        6.66389005e-01, 7.00124948e-01, 7.34693878e-01, 7.70095793e-01,\n",
              "        8.06330696e-01, 8.43398584e-01, 8.81299459e-01, 9.20033319e-01,\n",
              "        9.59600167e-01, 1.00000000e+00],\n",
              "       [0.00000000e+00, 2.04081633e-02, 4.08163265e-02, 6.12244898e-02,\n",
              "        8.16326531e-02, 1.02040816e-01, 1.22448980e-01, 1.42857143e-01,\n",
              "        1.63265306e-01, 1.83673469e-01, 2.04081633e-01, 2.24489796e-01,\n",
              "        2.44897959e-01, 2.65306122e-01, 2.85714286e-01, 3.06122449e-01,\n",
              "        3.26530612e-01, 3.46938776e-01, 3.67346939e-01, 3.87755102e-01,\n",
              "        4.08163265e-01, 4.28571429e-01, 4.48979592e-01, 4.69387755e-01,\n",
              "        4.89795918e-01, 5.10204082e-01, 5.30612245e-01, 5.51020408e-01,\n",
              "        5.71428571e-01, 5.91836735e-01, 6.12244898e-01, 6.32653061e-01,\n",
              "        6.53061224e-01, 6.73469388e-01, 6.93877551e-01, 7.14285714e-01,\n",
              "        7.34693878e-01, 7.55102041e-01, 7.75510204e-01, 7.95918367e-01,\n",
              "        8.16326531e-01, 8.36734694e-01, 8.57142857e-01, 8.77551020e-01,\n",
              "        8.97959184e-01, 9.18367347e-01, 9.38775510e-01, 9.59183673e-01,\n",
              "        9.79591837e-01, 1.00000000e+00],\n",
              "       [1.00000000e+00, 1.00000000e+00, 1.00000000e+00, 1.00000000e+00,\n",
              "        1.00000000e+00, 1.00000000e+00, 1.00000000e+00, 1.00000000e+00,\n",
              "        1.00000000e+00, 1.00000000e+00, 1.00000000e+00, 1.00000000e+00,\n",
              "        1.00000000e+00, 1.00000000e+00, 1.00000000e+00, 1.00000000e+00,\n",
              "        1.00000000e+00, 1.00000000e+00, 1.00000000e+00, 1.00000000e+00,\n",
              "        1.00000000e+00, 1.00000000e+00, 1.00000000e+00, 1.00000000e+00,\n",
              "        1.00000000e+00, 1.00000000e+00, 1.00000000e+00, 1.00000000e+00,\n",
              "        1.00000000e+00, 1.00000000e+00, 1.00000000e+00, 1.00000000e+00,\n",
              "        1.00000000e+00, 1.00000000e+00, 1.00000000e+00, 1.00000000e+00,\n",
              "        1.00000000e+00, 1.00000000e+00, 1.00000000e+00, 1.00000000e+00,\n",
              "        1.00000000e+00, 1.00000000e+00, 1.00000000e+00, 1.00000000e+00,\n",
              "        1.00000000e+00, 1.00000000e+00, 1.00000000e+00, 1.00000000e+00,\n",
              "        1.00000000e+00, 1.00000000e+00]])"
            ]
          },
          "metadata": {},
          "execution_count": 9
        }
      ]
    },
    {
      "cell_type": "code",
      "source": [
        "X1, Y1 = (t_matr.T @ M @ P1.T).T\n",
        "X2, Y2 = (t_matr.T @ M @ P2.T).T"
      ],
      "metadata": {
        "id": "WQdxNwHk9Qbl"
      },
      "execution_count": null,
      "outputs": []
    },
    {
      "cell_type": "code",
      "source": [
        "plt.plot(X1, Y1)\n",
        "plt.plot(X2, Y2)\n",
        "plt.plot(P1[0], P1[1], \"--\")\n",
        "plt.plot(P2[0], P2[1], \"--\")\n",
        "plt.plot(P1[0], P1[1], \"o\")\n",
        "plt.plot(P2[0], P2[1], \"o\")"
      ],
      "metadata": {
        "colab": {
          "base_uri": "https://localhost:8080/",
          "height": 447
        },
        "id": "zQZ4l1Uk9YRd",
        "outputId": "432f4d92-3f79-44eb-d314-959cae014c09"
      },
      "execution_count": null,
      "outputs": [
        {
          "output_type": "execute_result",
          "data": {
            "text/plain": [
              "[<matplotlib.lines.Line2D at 0x781eb4ff2d10>]"
            ]
          },
          "metadata": {},
          "execution_count": 16
        },
        {
          "output_type": "display_data",
          "data": {
            "text/plain": [
              "<Figure size 640x480 with 1 Axes>"
            ],
            "image/png": "[encoded data removed]"
          },
          "metadata": {}
        }
      ]
    },
    {
      "cell_type": "markdown",
      "source": [
        "Task 7"
      ],
      "metadata": {
        "id": "QlTE-DXlFLCs"
      }
    },
    {
      "cell_type": "code",
      "source": [
        "x1 = np.linspace(-1, 1)\n",
        "x2 = np.linspace(1, 2)"
      ],
      "metadata": {
        "id": "qTfJdEBSlG5T"
      },
      "execution_count": null,
      "outputs": []
    },
    {
      "cell_type": "code",
      "source": [
        "def y1(x):\n",
        "  return (12*x*x + 15*x + 164) / 32\n",
        "\n",
        "def y2(x):\n",
        "  return (x*x*x + 3*x*x + 3*x + 41) / 8\n",
        "\n",
        "def y3(x):\n",
        "  return (x*x*x - 3*x*x + 3*x + 4)\n",
        "\n",
        "def y4(x):\n",
        "  return (4*x*x*x - 3*x)\n",
        "\n",
        "def y5(x):\n",
        "  return (3/2*x*x - 57/16*x + 227/32)"
      ],
      "metadata": {
        "id": "9loVullslqU2"
      },
      "execution_count": null,
      "outputs": []
    },
    {
      "cell_type": "code",
      "source": [
        "y_1 = y1(x1)\n",
        "y_2 = y2(x1)\n",
        "y_3 = y3(x2)\n",
        "y_4 = y4(x1)"
      ],
      "metadata": {
        "id": "U8CrjpYll7GZ"
      },
      "execution_count": null,
      "outputs": []
    },
    {
      "cell_type": "code",
      "source": [
        "y1(x2*2-3)"
      ],
      "metadata": {
        "colab": {
          "base_uri": "https://localhost:8080/"
        },
        "id": "Hc62WfMO8cu1",
        "outputId": "6f149acf-65de-408e-ceb7-ed9375004e65"
      },
      "execution_count": null,
      "outputs": [
        {
          "output_type": "execute_result",
          "data": {
            "text/plain": [
              "array([5.03125   , 5.02039515, 5.01078978, 5.00243388, 4.99532747,\n",
              "       4.98947053, 4.98486308, 4.9815051 , 4.97939661, 4.97853759,\n",
              "       4.97892805, 4.98056799, 4.98345741, 4.98759631, 4.99298469,\n",
              "       4.99962255, 5.00750989, 5.01664671, 5.02703301, 5.03866878,\n",
              "       5.05155404, 5.06568878, 5.08107299, 5.09770668, 5.11558986,\n",
              "       5.13472251, 5.15510464, 5.17673626, 5.19961735, 5.22374792,\n",
              "       5.24912797, 5.2757575 , 5.30363651, 5.33276499, 5.36314296,\n",
              "       5.39477041, 5.42764733, 5.46177374, 5.49714963, 5.53377499,\n",
              "       5.57164983, 5.61077416, 5.65114796, 5.69277124, 5.735644  ,\n",
              "       5.77976624, 5.82513796, 5.87175916, 5.91962984, 5.96875   ])"
            ]
          },
          "metadata": {},
          "execution_count": 88
        }
      ]
    },
    {
      "cell_type": "code",
      "source": [
        "y5(x2)"
      ],
      "metadata": {
        "colab": {
          "base_uri": "https://localhost:8080/"
        },
        "id": "_HlHSzRX8gK9",
        "outputId": "3a33f80c-072d-4996-fd46-d0b4dddbdaef"
      },
      "execution_count": null,
      "outputs": [
        {
          "output_type": "execute_result",
          "data": {
            "text/plain": [
              "array([5.03125   , 5.02039515, 5.01078978, 5.00243388, 4.99532747,\n",
              "       4.98947053, 4.98486308, 4.9815051 , 4.97939661, 4.97853759,\n",
              "       4.97892805, 4.98056799, 4.98345741, 4.98759631, 4.99298469,\n",
              "       4.99962255, 5.00750989, 5.01664671, 5.02703301, 5.03866878,\n",
              "       5.05155404, 5.06568878, 5.08107299, 5.09770668, 5.11558986,\n",
              "       5.13472251, 5.15510464, 5.17673626, 5.19961735, 5.22374792,\n",
              "       5.24912797, 5.2757575 , 5.30363651, 5.33276499, 5.36314296,\n",
              "       5.39477041, 5.42764733, 5.46177374, 5.49714963, 5.53377499,\n",
              "       5.57164983, 5.61077416, 5.65114796, 5.69277124, 5.735644  ,\n",
              "       5.77976624, 5.82513796, 5.87175916, 5.91962984, 5.96875   ])"
            ]
          },
          "metadata": {},
          "execution_count": 89
        }
      ]
    },
    {
      "cell_type": "code",
      "source": [
        " y_3"
      ],
      "metadata": {
        "colab": {
          "base_uri": "https://localhost:8080/"
        },
        "id": "oDejBf858qrJ",
        "outputId": "18448d0f-2af6-4c3c-eed6-5df925eba43a"
      },
      "execution_count": null,
      "outputs": [
        {
          "output_type": "execute_result",
          "data": {
            "text/plain": [
              "array([5.        , 5.0000085 , 5.000068  , 5.0002295 , 5.00054399,\n",
              "       5.00106248, 5.00183597, 5.00291545, 5.00435193, 5.0061964 ,\n",
              "       5.00849986, 5.01131331, 5.01468776, 5.01867419, 5.02332362,\n",
              "       5.02868703, 5.03481543, 5.04175981, 5.04957118, 5.05830054,\n",
              "       5.06799888, 5.0787172 , 5.09050651, 5.10341779, 5.11750206,\n",
              "       5.13281031, 5.14939354, 5.16730274, 5.18658892, 5.20730308,\n",
              "       5.22949621, 5.25321932, 5.2785234 , 5.30545946, 5.33407849,\n",
              "       5.36443149, 5.39656946, 5.4305434 , 5.4664043 , 5.50420318,\n",
              "       5.54399102, 5.58581883, 5.62973761, 5.67579835, 5.72405205,\n",
              "       5.77454972, 5.82734235, 5.88248094, 5.94001649, 6.        ])"
            ]
          },
          "metadata": {},
          "execution_count": 96
        }
      ]
    },
    {
      "cell_type": "code",
      "source": [
        "plt.plot(x1, y_1)\n",
        "plt.plot(x1, y_2)\n",
        "plt.plot(x1, y_4)"
      ],
      "metadata": {
        "colab": {
          "base_uri": "https://localhost:8080/",
          "height": 447
        },
        "id": "zO_QUK8Al4W3",
        "outputId": "c0c61b3d-37d8-4fcb-aca9-359d4ed01d84"
      },
      "execution_count": null,
      "outputs": [
        {
          "output_type": "execute_result",
          "data": {
            "text/plain": [
              "[<matplotlib.lines.Line2D at 0x7ef5d8592ce0>]"
            ]
          },
          "metadata": {},
          "execution_count": 94
        },
        {
          "output_type": "display_data",
          "data": {
            "text/plain": [
              "<Figure size 640x480 with 1 Axes>"
            ],
            "image/png": "[encoded data removed]"
          },
          "metadata": {}
        }
      ]
    },
    {
      "cell_type": "code",
      "source": [
        "plt.plot(x2, y_3)\n",
        "plt.plot(x2, y1(x2*2-3))"
      ],
      "metadata": {
        "colab": {
          "base_uri": "https://localhost:8080/",
          "height": 447
        },
        "id": "HT9VVZeFtiBG",
        "outputId": "ec4b5e5c-098c-428d-e6e1-89feb943f382"
      },
      "execution_count": null,
      "outputs": [
        {
          "output_type": "execute_result",
          "data": {
            "text/plain": [
              "[<matplotlib.lines.Line2D at 0x7b2e75ddd270>]"
            ]
          },
          "metadata": {},
          "execution_count": 127
        },
        {
          "output_type": "display_data",
          "data": {
            "text/plain": [
              "<Figure size 640x480 with 1 Axes>"
            ],
            "image/png": "[encoded data removed]"
          },
          "metadata": {}
        }
      ]
    },
    {
      "cell_type": "code",
      "source": [
        "plt.plot(x2, y4(x2*2-3)/-32)"
      ],
      "metadata": {
        "colab": {
          "base_uri": "https://localhost:8080/",
          "height": 447
        },
        "id": "XLDfIH6t9R5J",
        "outputId": "3396c337-199d-4be1-93b5-de53bf5985bf"
      },
      "execution_count": null,
      "outputs": [
        {
          "output_type": "execute_result",
          "data": {
            "text/plain": [
              "[<matplotlib.lines.Line2D at 0x7b2e75c37ac0>]"
            ]
          },
          "metadata": {},
          "execution_count": 128
        },
        {
          "output_type": "display_data",
          "data": {
            "text/plain": [
              "<Figure size 640x480 with 1 Axes>"
            ],
            "image/png": "[encoded data removed]"
          },
          "metadata": {}
        }
      ]
    },
    {
      "cell_type": "markdown",
      "source": [
        "Task 8"
      ],
      "metadata": {
        "id": "G5lFKNTHFNmI"
      }
    },
    {
      "cell_type": "code",
      "source": [
        "import scipy as sp"
      ],
      "metadata": {
        "id": "xrCULLU6FJEc"
      },
      "execution_count": null,
      "outputs": []
    },
    {
      "cell_type": "code",
      "source": [
        "import scipy.integrate as integrate"
      ],
      "metadata": {
        "id": "btCRRlTVFSt2"
      },
      "execution_count": null,
      "outputs": []
    },
    {
      "cell_type": "markdown",
      "source": [
        "Пример для отладки"
      ],
      "metadata": {
        "id": "6T8j7GVkwV6J"
      }
    },
    {
      "cell_type": "code",
      "source": [
        "def integrand(x, a, b, c):\n",
        "    return (x**3 + x**2 + x + 1 - a*x**2 - b*x - c) ** 2"
      ],
      "metadata": {
        "id": "eqVqAvdIsKZN"
      },
      "execution_count": null,
      "outputs": []
    },
    {
      "cell_type": "code",
      "source": [
        "def subtract(x):\n",
        "  return x[0]-x[1]"
      ],
      "metadata": {
        "id": "A1QxYNoStZ91"
      },
      "execution_count": null,
      "outputs": []
    },
    {
      "cell_type": "code",
      "source": [
        "G = np.array([[np.sqrt(subtract(integrate.quad(lambda x: 1*1, 0, 2))),    np.sqrt(subtract(integrate.quad(lambda x: 1*x, 0, 2))),    np.sqrt(subtract(integrate.quad(lambda x: 1*x**2, 0, 2)))],\n",
        "              [np.sqrt(subtract(integrate.quad(lambda x: x*1, 0, 2))),    np.sqrt(subtract(integrate.quad(lambda x: x*x, 0, 2))),    np.sqrt(subtract(integrate.quad(lambda x: x*x**2, 0, 2)))],\n",
        "              [np.sqrt(subtract(integrate.quad(lambda x: x**2*1, 0, 2))), np.sqrt(subtract(integrate.quad(lambda x: x**2*x, 0, 2))), np.sqrt(subtract(integrate.quad(lambda x: x**2*x**2, 0, 2)))]])"
      ],
      "metadata": {
        "id": "ANGzqWGntSJQ"
      },
      "execution_count": null,
      "outputs": []
    },
    {
      "cell_type": "code",
      "source": [
        "G_inv = np.linalg.inv(G)"
      ],
      "metadata": {
        "id": "E87aoprkumks"
      },
      "execution_count": null,
      "outputs": []
    },
    {
      "cell_type": "code",
      "source": [
        "G_inv"
      ],
      "metadata": {
        "colab": {
          "base_uri": "https://localhost:8080/"
        },
        "id": "PGALY6RDuqlu",
        "outputId": "603341cf-d204-4b86-8322-e0037a9b2a33"
      },
      "execution_count": null,
      "outputs": [
        {
          "output_type": "execute_result",
          "data": {
            "text/plain": [
              "array([[ 14.85421089, -35.29739247,  18.31668702],\n",
              "       [-35.29739247, 103.16039627, -58.77108527],\n",
              "       [ 18.31668702, -58.77108527,  35.03453658]])"
            ]
          },
          "metadata": {},
          "execution_count": 13
        }
      ]
    },
    {
      "cell_type": "code",
      "source": [
        "Q = np.array([np.sqrt(subtract(integrate.quad(lambda x: (x**3 + x**2 + x + 1)*1, 0, 2))),\n",
        "              np.sqrt(subtract(integrate.quad(lambda x: (x**3 + x**2 + x + 1)*x, 0, 2))),\n",
        "              np.sqrt(subtract(integrate.quad(lambda x: (x**3 + x**2 + x + 1)*x**2, 0, 2)))])"
      ],
      "metadata": {
        "id": "pvz9W6WcvKqE"
      },
      "execution_count": null,
      "outputs": []
    },
    {
      "cell_type": "code",
      "source": [
        "Q"
      ],
      "metadata": {
        "colab": {
          "base_uri": "https://localhost:8080/"
        },
        "id": "ax7_R6C4vyyi",
        "outputId": "350cda85-7106-4cf3-d3ca-3b8f7199e8d7"
      },
      "execution_count": null,
      "outputs": [
        {
          "output_type": "execute_result",
          "data": {
            "text/plain": [
              "array([3.26598632, 3.88158043, 4.87168691])"
            ]
          },
          "metadata": {},
          "execution_count": 15
        }
      ]
    },
    {
      "cell_type": "markdown",
      "source": [
        "===="
      ],
      "metadata": {
        "id": "wb-TOHU-taxT"
      }
    },
    {
      "cell_type": "code",
      "source": [
        "def integrand(x, a, b, c, d):\n",
        "    return ((a*x**3 + b*x**2 + c*x + d - np.sqrt(3*x+4)) ** 2) / np.sqrt(1-((2*x-5)**2)/9)"
      ],
      "metadata": {
        "id": "RGl5RduEsdOd"
      },
      "execution_count": null,
      "outputs": []
    },
    {
      "cell_type": "code",
      "source": [
        "def subtract(x):\n",
        "  return x[0]-x[1]"
      ],
      "metadata": {
        "id": "P30MtHRexOfw"
      },
      "execution_count": null,
      "outputs": []
    },
    {
      "cell_type": "code",
      "source": [
        "np.sqrt(1-((2*x-5)**2)/9)"
      ],
      "metadata": {
        "colab": {
          "base_uri": "https://localhost:8080/"
        },
        "id": "00-hIcEf0gOB",
        "outputId": "a96c9a4f-9878-4e0c-8dee-344a98bedf61"
      },
      "execution_count": null,
      "outputs": [
        {
          "output_type": "execute_result",
          "data": {
            "text/plain": [
              "0.0"
            ]
          },
          "metadata": {},
          "execution_count": 45
        }
      ]
    },
    {
      "cell_type": "code",
      "source": [
        "G = np.array([[np.sqrt(subtract(integrate.quad(lambda x: 1*1 / np.sqrt(1-(2*x-5)**2/9), 1, 4))),    np.sqrt(subtract(integrate.quad(lambda x: 1*x / np.sqrt(1-(2*x-5)**2/9), 1, 4))),    np.sqrt(subtract(integrate.quad(lambda x: 1*x**2 / np.sqrt(1-(2*x-5)**2/9), 1, 4))),    np.sqrt(subtract(integrate.quad(lambda x: 1*x**3 / np.sqrt(1-(2*x-5)**2/9), 1, 4)))   ],\n",
        "              [np.sqrt(subtract(integrate.quad(lambda x: x*1 / np.sqrt(1-(2*x-5)**2/9), 1, 4))),    np.sqrt(subtract(integrate.quad(lambda x: x*x / np.sqrt(1-(2*x-5)**2/9), 1, 4))),    np.sqrt(subtract(integrate.quad(lambda x: x*x**2 / np.sqrt(1-(2*x-5)**2/9), 1, 4))),    np.sqrt(subtract(integrate.quad(lambda x: x*x**3 / np.sqrt(1-(2*x-5)**2/9), 1, 4)))   ],\n",
        "              [np.sqrt(subtract(integrate.quad(lambda x: x**2*1 / np.sqrt(1-(2*x-5)**2/9), 1, 4))), np.sqrt(subtract(integrate.quad(lambda x: x**2*x / np.sqrt(1-(2*x-5)**2/9), 1, 4))), np.sqrt(subtract(integrate.quad(lambda x: x**2*x**2 / np.sqrt(1-(2*x-5)**2/9), 1, 4))), np.sqrt(subtract(integrate.quad(lambda x: x**2*x**3 / np.sqrt(1-(2*x-5)**2/9), 1, 4)))],\n",
        "              [np.sqrt(subtract(integrate.quad(lambda x: x**3*1 / np.sqrt(1-(2*x-5)**2/9), 1, 4))), np.sqrt(subtract(integrate.quad(lambda x: x**3*x / np.sqrt(1-(2*x-5)**2/9), 1, 4))), np.sqrt(subtract(integrate.quad(lambda x: x**3*x**2 / np.sqrt(1-(2*x-5)**2/9), 1, 4))), np.sqrt(subtract(integrate.quad(lambda x: x**3*x**3 / np.sqrt(1-(2*x-5)**2/9), 1, 4)))]])"
      ],
      "metadata": {
        "id": "nFsoOpY5b-nt"
      },
      "execution_count": null,
      "outputs": []
    },
    {
      "cell_type": "code",
      "source": [
        "G_inv = np.linalg.inv(G)"
      ],
      "metadata": {
        "id": "8ct7inOJNIv4"
      },
      "execution_count": null,
      "outputs": []
    },
    {
      "cell_type": "code",
      "source": [
        "G_inv"
      ],
      "metadata": {
        "colab": {
          "base_uri": "https://localhost:8080/"
        },
        "id": "XqvyCgJlXOq7",
        "outputId": "9ad856ff-693e-4440-b29d-35ad31e121ee"
      },
      "execution_count": null,
      "outputs": [
        {
          "output_type": "execute_result",
          "data": {
            "text/plain": [
              "array([[ -210.38743292,   493.25601632,  -356.59332062,    81.40912462],\n",
              "       [  493.25601632, -1097.7535663 ,   755.04963863,  -164.72609561],\n",
              "       [ -356.59332062,   755.04963863,  -487.86537401,    99.41150291],\n",
              "       [   81.40912462,  -164.72609561,    99.41150291,   -18.53599721]])"
            ]
          },
          "metadata": {},
          "execution_count": 107
        }
      ]
    },
    {
      "cell_type": "code",
      "source": [
        "Q = np.array([np.sqrt(subtract(integrate.quad(lambda x: 1*np.sqrt(3*x+4) / np.sqrt(1-((2*x-5)**2)/9), 1, 4))),\n",
        "              np.sqrt(subtract(integrate.quad(lambda x: x*np.sqrt(3*x+4) / np.sqrt(1-((2*x-5)**2)/9), 1, 4))),\n",
        "              np.sqrt(subtract(integrate.quad(lambda x: x**2*np.sqrt(3*x+4) / np.sqrt(1-((2*x-5)**2)/9), 1, 4))),\n",
        "              np.sqrt(subtract(integrate.quad(lambda x: x**3*np.sqrt(3*x+4) / np.sqrt(1-((2*x-5)**2)/9), 1, 4)))])"
      ],
      "metadata": {
        "id": "KNEbBtWJcE2b"
      },
      "execution_count": null,
      "outputs": []
    },
    {
      "cell_type": "code",
      "source": [
        "Q"
      ],
      "metadata": {
        "colab": {
          "base_uri": "https://localhost:8080/"
        },
        "id": "ojr3aN9BXaFM",
        "outputId": "132c7906-2b1d-4be1-e239-e54ae6003dfb"
      },
      "execution_count": null,
      "outputs": [
        {
          "output_type": "execute_result",
          "data": {
            "text/plain": [
              "array([ 3.9776457 ,  6.47571084, 11.33567984, 20.70487852])"
            ]
          },
          "metadata": {},
          "execution_count": 109
        }
      ]
    },
    {
      "cell_type": "code",
      "source": [
        "G_inv @ Q.T"
      ],
      "metadata": {
        "colab": {
          "base_uri": "https://localhost:8080/"
        },
        "id": "1oLj87yjQjx7",
        "outputId": "118f028a-5c23-4a1e-8efe-94dc8e73f14c"
      },
      "execution_count": null,
      "outputs": [
        {
          "output_type": "execute_result",
          "data": {
            "text/plain": [
              "array([ 0.6749846 ,  1.63017001, -0.90135105,  0.20949001])"
            ]
          },
          "metadata": {},
          "execution_count": 115
        }
      ]
    },
    {
      "cell_type": "code",
      "source": [
        "sol = G_inv @ Q.T"
      ],
      "metadata": {
        "id": "nu8aiN1x1qUZ"
      },
      "execution_count": null,
      "outputs": []
    },
    {
      "cell_type": "code",
      "source": [
        "x3 = np.linspace(1, 4)"
      ],
      "metadata": {
        "id": "NBFgk4c71RZi"
      },
      "execution_count": null,
      "outputs": []
    },
    {
      "cell_type": "code",
      "source": [
        "plt.plot(x3, np.sqrt(3*x3+4))\n",
        "plt.plot(x3, sol[3]*x3**3 + sol[2]*x3**2 + sol[1]*x3 + sol[0])"
      ],
      "metadata": {
        "colab": {
          "base_uri": "https://localhost:8080/",
          "height": 447
        },
        "id": "ocUmZSij1UFG",
        "outputId": "7dabe198-7b33-45c3-9d01-ec1fb6959fbc"
      },
      "execution_count": null,
      "outputs": [
        {
          "output_type": "execute_result",
          "data": {
            "text/plain": [
              "[<matplotlib.lines.Line2D at 0x7a685ea6ad40>]"
            ]
          },
          "metadata": {},
          "execution_count": 116
        },
        {
          "output_type": "display_data",
          "data": {
            "text/plain": [
              "<Figure size 640x480 with 1 Axes>"
            ],
            "image/png": "[encoded data removed]"
          },
          "metadata": {}
        }
      ]
    }
  ]
}