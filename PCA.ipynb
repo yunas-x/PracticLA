{
  "nbformat": 4,
  "nbformat_minor": 0,
  "metadata": {
    "colab": {
      "provenance": []
    },
    "kernelspec": {
      "name": "python3",
      "display_name": "Python 3"
    },
    "language_info": {
      "name": "python"
    }
  },
  "cells": [
    {
      "cell_type": "code",
      "execution_count": null,
      "metadata": {
        "id": "ORP1oG2UWqoO"
      },
      "outputs": [],
      "source": [
        "from sklearn import decomposition\n",
        "import numpy as np"
      ]
    },
    {
      "cell_type": "code",
      "source": [
        "A = np.array([[1, 1, 1],\n",
        "              [2, 1, 3],\n",
        "              [1, 2, 2],\n",
        "              [3, 1, 2]])"
      ],
      "metadata": {
        "id": "d7mtmP6bW2ix"
      },
      "execution_count": null,
      "outputs": []
    },
    {
      "cell_type": "code",
      "source": [
        "decomposition.PCA(n_components=2).fit_transform(A)"
      ],
      "metadata": {
        "colab": {
          "base_uri": "https://localhost:8080/"
        },
        "id": "gzWPZ7iMXL5Z",
        "outputId": "4fd790e6-22ab-465f-c3c5-92d180ffaf2e"
      },
      "execution_count": null,
      "outputs": [
        {
          "output_type": "execute_result",
          "data": {
            "text/plain": [
              "array([[ 1.08554069,  0.61237244],\n",
              "       [-0.78241346, -0.61237244],\n",
              "       [ 0.78241346, -0.61237244],\n",
              "       [-1.08554069,  0.61237244]])"
            ]
          },
          "metadata": {},
          "execution_count": 63
        }
      ]
    },
    {
      "cell_type": "code",
      "source": [
        "A_Centered = A - A.mean(axis=0)"
      ],
      "metadata": {
        "id": "nhY7AkIkY-Vo"
      },
      "execution_count": null,
      "outputs": []
    },
    {
      "cell_type": "code",
      "source": [
        "A.mean(axis=0)"
      ],
      "metadata": {
        "colab": {
          "base_uri": "https://localhost:8080/"
        },
        "id": "eLeXRGAsZX8T",
        "outputId": "bdc9c109-f983-4b6c-ca42-9b5ce8da0148"
      },
      "execution_count": null,
      "outputs": [
        {
          "output_type": "execute_result",
          "data": {
            "text/plain": [
              "array([1.75, 1.25, 2.  ])"
            ]
          },
          "metadata": {},
          "execution_count": 65
        }
      ]
    },
    {
      "cell_type": "code",
      "source": [
        "A_Centered"
      ],
      "metadata": {
        "colab": {
          "base_uri": "https://localhost:8080/"
        },
        "id": "VNBKnjCtZUD5",
        "outputId": "d963518a-e3ac-40a3-c63e-e0bec0739d47"
      },
      "execution_count": null,
      "outputs": [
        {
          "output_type": "execute_result",
          "data": {
            "text/plain": [
              "array([[-0.75, -0.25, -1.  ],\n",
              "       [ 0.25, -0.25,  1.  ],\n",
              "       [-0.75,  0.75,  0.  ],\n",
              "       [ 1.25, -0.25,  0.  ]])"
            ]
          },
          "metadata": {},
          "execution_count": 66
        }
      ]
    },
    {
      "cell_type": "code",
      "source": [
        "U, S, Vt = np.linalg.svd(A_Centered)"
      ],
      "metadata": {
        "id": "DBIzQtVsayAk"
      },
      "execution_count": null,
      "outputs": []
    },
    {
      "cell_type": "code",
      "source": [
        "U[:, 0:2]"
      ],
      "metadata": {
        "colab": {
          "base_uri": "https://localhost:8080/"
        },
        "id": "uHe0T8Sob7th",
        "outputId": "208be52f-5dce-4657-e8f4-7c8104c1cccb"
      },
      "execution_count": null,
      "outputs": [
        {
          "output_type": "execute_result",
          "data": {
            "text/plain": [
              "array([[-0.57363485,  0.5       ],\n",
              "       [ 0.41345261, -0.5       ],\n",
              "       [-0.41345261, -0.5       ],\n",
              "       [ 0.57363485,  0.5       ]])"
            ]
          },
          "metadata": {},
          "execution_count": 68
        }
      ]
    },
    {
      "cell_type": "code",
      "source": [
        "Sigma = np.zeros((2, 2), dtype=float)\n",
        "Sigma[:2, :2] = np.diag(S[:2])"
      ],
      "metadata": {
        "id": "7ouuOalPcMAt"
      },
      "execution_count": null,
      "outputs": []
    },
    {
      "cell_type": "code",
      "source": [
        "U[:, 0:2] @ Sigma"
      ],
      "metadata": {
        "colab": {
          "base_uri": "https://localhost:8080/"
        },
        "id": "N2fnDKLQcdVD",
        "outputId": "e9c28868-a87a-4a0c-e3ac-f93a5d429927"
      },
      "execution_count": null,
      "outputs": [
        {
          "output_type": "execute_result",
          "data": {
            "text/plain": [
              "array([[-1.08554069,  0.61237244],\n",
              "       [ 0.78241346, -0.61237244],\n",
              "       [-0.78241346, -0.61237244],\n",
              "       [ 1.08554069,  0.61237244]])"
            ]
          },
          "metadata": {},
          "execution_count": 70
        }
      ]
    }
  ]
}