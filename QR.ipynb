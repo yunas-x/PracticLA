{
  "nbformat": 4,
  "nbformat_minor": 0,
  "metadata": {
    "colab": {
      "provenance": []
    },
    "kernelspec": {
      "name": "python3",
      "display_name": "Python 3"
    },
    "language_info": {
      "name": "python"
    }
  },
  "cells": [
    {
      "cell_type": "code",
      "execution_count": 1,
      "metadata": {
        "id": "0EAJNeEyqkqx"
      },
      "outputs": [],
      "source": [
        "import numpy as np\n",
        "import scipy as sp"
      ]
    },
    {
      "cell_type": "code",
      "source": [
        "A = np.random.rand(10, 10)"
      ],
      "metadata": {
        "id": "Y1jTYbuZq-nG"
      },
      "execution_count": 28,
      "outputs": []
    },
    {
      "cell_type": "code",
      "source": [
        "np.sort(np.linalg.eigvals(A))"
      ],
      "metadata": {
        "colab": {
          "base_uri": "https://localhost:8080/"
        },
        "id": "X2hT_K2xrTJz",
        "outputId": "b23c5819-9799-428a-f21b-88449626b201"
      },
      "execution_count": 30,
      "outputs": [
        {
          "output_type": "execute_result",
          "data": {
            "text/plain": [
              "array([-0.89776015+0.j        , -0.48837391+0.j        ,\n",
              "       -0.40522254-0.69901248j, -0.40522254+0.69901248j,\n",
              "       -0.07997322-0.56581119j, -0.07997322+0.56581119j,\n",
              "        0.1487356 -0.19029779j,  0.1487356 +0.19029779j,\n",
              "        0.7405819 +0.j        ,  4.83865003+0.j        ])"
            ]
          },
          "metadata": {},
          "execution_count": 30
        }
      ]
    },
    {
      "cell_type": "code",
      "source": [
        "Hes = sp.linalg.hessenberg(A)"
      ],
      "metadata": {
        "id": "Q9LfDjqiraSb"
      },
      "execution_count": 31,
      "outputs": []
    },
    {
      "cell_type": "code",
      "source": [
        "X = A.copy()"
      ],
      "metadata": {
        "id": "eRoV01cBsflQ"
      },
      "execution_count": 32,
      "outputs": []
    },
    {
      "cell_type": "code",
      "source": [
        "for i in range(10):\n",
        "  Q, R = np.linalg.qr(X)\n",
        "  X = R @ Q"
      ],
      "metadata": {
        "id": "f9AqufM1rzPj"
      },
      "execution_count": 35,
      "outputs": []
    },
    {
      "cell_type": "code",
      "source": [
        "np.sort(np.diag(X))"
      ],
      "metadata": {
        "colab": {
          "base_uri": "https://localhost:8080/"
        },
        "id": "r7vbD6EutQef",
        "outputId": "b39e9b7b-04e7-4473-f61d-c14fdb629d10"
      },
      "execution_count": 36,
      "outputs": [
        {
          "output_type": "execute_result",
          "data": {
            "text/plain": [
              "array([-0.89179745, -0.48791833, -0.40746126, -0.40319123, -0.10633063,\n",
              "       -0.05311777,  0.08540116,  0.21207003,  0.73387297,  4.83865003])"
            ]
          },
          "metadata": {},
          "execution_count": 36
        }
      ]
    }
  ]
}