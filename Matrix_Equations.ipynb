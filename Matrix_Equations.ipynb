{
  "nbformat": 4,
  "nbformat_minor": 0,
  "metadata": {
    "colab": {
      "provenance": []
    },
    "kernelspec": {
      "name": "python3",
      "display_name": "Python 3"
    },
    "language_info": {
      "name": "python"
    }
  },
  "cells": [
    {
      "cell_type": "code",
      "execution_count": null,
      "metadata": {
        "id": "kXsNf4mFLOvq"
      },
      "outputs": [],
      "source": [
        "import numpy as np"
      ]
    },
    {
      "cell_type": "code",
      "source": [
        "A1 = np.array([[4, 2],\n",
        "              [2, -4]])\n",
        "\n",
        "b1 = np.array([7, -4])"
      ],
      "metadata": {
        "id": "It23e9CuLeVo"
      },
      "execution_count": null,
      "outputs": []
    },
    {
      "cell_type": "code",
      "source": [
        "A2 = np.array([[1, 3, 1],\n",
        "              [2, 2, 1],\n",
        "              [3, 1, 2]])\n",
        "\n",
        "b2 = np.array([8, 9, 13])"
      ],
      "metadata": {
        "id": "xw4lNLotLtI9"
      },
      "execution_count": null,
      "outputs": []
    },
    {
      "cell_type": "code",
      "source": [
        "A3 = np.array([[2, -4, 5],\n",
        "              [3, -3, -5],\n",
        "              [4, 5, 2]])\n",
        "\n",
        "b3 = np.array([3, -5, 11])"
      ],
      "metadata": {
        "id": "9q092J0GMElI"
      },
      "execution_count": null,
      "outputs": []
    },
    {
      "cell_type": "code",
      "source": [
        "np.linalg.solve(A1, b1)"
      ],
      "metadata": {
        "colab": {
          "base_uri": "https://localhost:8080/"
        },
        "id": "MlhmD5KbMT08",
        "outputId": "2f50084b-7b20-42d0-e18a-07237050a59f"
      },
      "execution_count": null,
      "outputs": [
        {
          "output_type": "execute_result",
          "data": {
            "text/plain": [
              "array([1. , 1.5])"
            ]
          },
          "metadata": {},
          "execution_count": 8
        }
      ]
    },
    {
      "cell_type": "code",
      "source": [
        "np.linalg.solve(A2, b2)"
      ],
      "metadata": {
        "colab": {
          "base_uri": "https://localhost:8080/"
        },
        "id": "DBgxivsZMdQe",
        "outputId": "5d0d1c07-8773-4adf-a7be-30c539a14f3b"
      },
      "execution_count": null,
      "outputs": [
        {
          "output_type": "execute_result",
          "data": {
            "text/plain": [
              "array([2., 1., 3.])"
            ]
          },
          "metadata": {},
          "execution_count": 9
        }
      ]
    },
    {
      "cell_type": "code",
      "source": [
        "np.linalg.solve(A3, b3)"
      ],
      "metadata": {
        "colab": {
          "base_uri": "https://localhost:8080/"
        },
        "id": "gurnXynoMgN9",
        "outputId": "0955a924-e5aa-40a7-be96-f7e180d4abb8"
      },
      "execution_count": null,
      "outputs": [
        {
          "output_type": "execute_result",
          "data": {
            "text/plain": [
              "array([1., 1., 1.])"
            ]
          },
          "metadata": {},
          "execution_count": 10
        }
      ]
    },
    {
      "cell_type": "code",
      "source": [
        "def solve(A, b, N=20, x=None):\n",
        "\n",
        "    if x is None:\n",
        "        x = np.zeros(len(A[0]))\n",
        "\n",
        "    tau = 2 / np.linalg.norm(A)\n",
        "    D = np.diagflat(np.diag(A))\n",
        "    L = np.tril(A, -1)\n",
        "\n",
        "    for i in range(N):\n",
        "        x = tau * (np.linalg.inv(D + tau*L) @ (b - A@x)) + x\n",
        "\n",
        "    return x"
      ],
      "metadata": {
        "id": "QLrBR2T3v585"
      },
      "execution_count": null,
      "outputs": []
    },
    {
      "cell_type": "code",
      "source": [
        "from scipy.linalg import norm as norm\n",
        "from scipy.sparse import diags\n",
        "\n",
        "\"\"\"The program is to split the matrix into D-diagonal; L: strictly lower matrix; U strictly upper matrix\n",
        "    satisfying: A = D - L - U  \"\"\"\n",
        "def splitMat(A):\n",
        "    n,m = A.shape\n",
        "    if (n == m):\n",
        "        diagval = np.diag(A)\n",
        "        D = diags(diagval,0).toarray()\n",
        "        L = (-1)*np.tril(A,-1)\n",
        "        U = (-1)*np.triu(A,1)\n",
        "    else:\n",
        "        print(\"A needs to be a square matrix\")\n",
        "    return (L,D,U)\n",
        "\n",
        "\"\"\"Preconditioned Matrix for symmetric successive over-relaxation (SSOR): \"\"\"\n",
        "def P_SSOR(A,w):\n",
        "    L,D,U = splitMat(A)\n",
        "    P = 2/(2-w) * (1/w*D+L)*np.linalg.inv(D)*(1/w*D+L).T\n",
        "    return P\n",
        "\n",
        "\"\"\"GMRES_SSOR using right preconditioning P:\n",
        "A - matrix of linear system Ax = b\n",
        "x0 - initial guess\n",
        "tol - tolerance\n",
        "maxit - maximum iteration \"\"\"\n",
        "\n",
        "def myGMRES_SSOR(A, b, x0=None, tol=10e-6, maxit=100):\n",
        "\n",
        "\n",
        "    if x0 is None:\n",
        "        x0 = np.zeros((len(b),1))\n",
        "\n",
        "    matrixSize = A.shape[0]\n",
        "    e = np.zeros((maxit+1,1))\n",
        "    rr = 1\n",
        "    rstart = 2\n",
        "    X = x0\n",
        "    w = 1.9 ## in ssor\n",
        "    P = P_SSOR(A,w) ### preconditioned matrix\n",
        "    ### Starting the GMRES ####\n",
        "    for rs in range(0,rstart+1):\n",
        "        ### first check the residual:\n",
        "        if rr<tol:\n",
        "            break\n",
        "        else:\n",
        "            r0 = (b-A.dot(x0))\n",
        "            rho = norm(r0)\n",
        "            e[0] = rho\n",
        "            H = np.zeros((maxit+1,maxit))\n",
        "            Qcol = np.zeros((matrixSize, maxit+1))\n",
        "            Qcol[:,0:1] = r0/rho\n",
        "        for k in range(1, maxit+1):\n",
        "            ### Arnodi procedure ##\n",
        "            Qcol[:,k] =np.matmul(np.matmul(A,P), Qcol[:,k-1])  ### This step applies P here:\n",
        "            for j in range(0,k):\n",
        "                H[j,k-1] = np.dot(np.transpose(Qcol[:,k]),Qcol[:,j])\n",
        "                Qcol[:,k] = Qcol[:,k] - (np.dot(H[j,k-1], Qcol[:,j]))\n",
        "\n",
        "            H[k,k-1] =norm(Qcol[:,k])\n",
        "            Qcol[:,k] = Qcol[:,k]/H[k,k-1]\n",
        "\n",
        "            ###  QR decomposition step ###\n",
        "            n = k\n",
        "            Q = np.zeros((n+1, n))\n",
        "            R = np.zeros((n, n))\n",
        "            R[0, 0] = norm(H[0:n+2, 0])\n",
        "            Q[:, 0] = H[0:n+1, 0] / R[0,0]\n",
        "            for j in range (0, n+1):\n",
        "                t = H[0:n+1, j-1]\n",
        "                for i in range (0, j-1):\n",
        "                    R[i, j-1] = np.dot(Q[:, i], t)\n",
        "                    t = t - np.dot(R[i, j-1], Q[:, i])\n",
        "                R[j-1, j-1] = norm(t)\n",
        "                Q[:, j-1] = t / R[j-1, j-1]\n",
        "\n",
        "            g = np.dot(np.transpose(Q), e[0:k+1])\n",
        "            Y = np.dot(np.linalg.inv(R), g)\n",
        "\n",
        "            Res= e[0:n] - np.dot(H[0:n, 0:n], Y[0:n])\n",
        "            rr = norm(Res)\n",
        "\n",
        "            #### second check on the residual ###\n",
        "            if rr < tol:\n",
        "                break\n",
        "\n",
        "        #### Updating the solution with the preconditioned matrix ####\n",
        "        X = X  + np.matmul(np.matmul(P,Qcol[:, 0:k]), Y) ### This steps applies P here:\n",
        "    return X"
      ],
      "metadata": {
        "id": "aClRgpRuMqmC"
      },
      "execution_count": null,
      "outputs": []
    },
    {
      "cell_type": "code",
      "source": [
        "solve(A1, b1)"
      ],
      "metadata": {
        "colab": {
          "base_uri": "https://localhost:8080/"
        },
        "id": "bqbpNMz0wq0E",
        "outputId": "9ddbbd83-f68d-4605-d3e3-c86e2d3b455f"
      },
      "execution_count": null,
      "outputs": [
        {
          "output_type": "execute_result",
          "data": {
            "text/plain": [
              "array([0.99983796, 1.50079593])"
            ]
          },
          "metadata": {},
          "execution_count": 22
        }
      ]
    },
    {
      "cell_type": "code",
      "source": [
        "from scipy.sparse.linalg import bicg"
      ],
      "metadata": {
        "id": "LlBNAaSKqjnE"
      },
      "execution_count": null,
      "outputs": []
    },
    {
      "cell_type": "code",
      "source": [
        "myGMRES_SSOR(A2, b2.reshape(3,1))"
      ],
      "metadata": {
        "colab": {
          "base_uri": "https://localhost:8080/"
        },
        "id": "1X92TTOhO2qB",
        "outputId": "07e17123-f3ad-4f44-942c-880895747b5b"
      },
      "execution_count": null,
      "outputs": [
        {
          "output_type": "stream",
          "name": "stderr",
          "text": [
            "<ipython-input-38-e800085145b8>:76: RuntimeWarning: invalid value encountered in divide\n",
            "  Q[:, j-1] = t / R[j-1, j-1]\n"
          ]
        },
        {
          "output_type": "execute_result",
          "data": {
            "text/plain": [
              "array([[2.],\n",
              "       [1.],\n",
              "       [3.]])"
            ]
          },
          "metadata": {},
          "execution_count": 39
        }
      ]
    },
    {
      "cell_type": "code",
      "source": [
        "bicg(A3, b3.reshape(3,1))"
      ],
      "metadata": {
        "colab": {
          "base_uri": "https://localhost:8080/"
        },
        "id": "a4eUIHg-PAM9",
        "outputId": "771d3142-cfde-4941-97c8-c3c9a92393bd"
      },
      "execution_count": null,
      "outputs": [
        {
          "output_type": "execute_result",
          "data": {
            "text/plain": [
              "(array([1., 1., 1.]), 0)"
            ]
          },
          "metadata": {},
          "execution_count": 207
        }
      ]
    }
  ]
}